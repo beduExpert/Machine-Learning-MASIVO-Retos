{
 "cells": [
  {
   "cell_type": "markdown",
   "metadata": {},
   "source": [
    "# Ejemplo 03: Sistema de recomendación con K-medias\n",
    "**_Dr. Antonio Arista Jalife._**\n",
    "\n",
    "Este es un sistema de recomendación: los sistemas de recomendación estan en todos lados (netflix, amazon, etc), y vamos a crear uno basado en K-medias. Para ello, vamos empezando por cargar un dataset de películas en formato CSV, que puse en este repositorio"
   ]
  },
  {
   "cell_type": "code",
   "execution_count": 1,
   "metadata": {
    "collapsed": true
   },
   "outputs": [],
   "source": [
    "import numpy as np\n",
    "import pandas as pd\n",
    "from matplotlib import pyplot as plt\n",
    "from sklearn.datasets.samples_generator import make_blobs\n",
    "from sklearn.model_selection import train_test_split\n",
    "from sklearn.cluster import KMeans"
   ]
  },
  {
   "cell_type": "code",
   "execution_count": 2,
   "metadata": {},
   "outputs": [
    {
     "data": {
      "text/html": [
       "<div>\n",
       "<style scoped>\n",
       "    .dataframe tbody tr th:only-of-type {\n",
       "        vertical-align: middle;\n",
       "    }\n",
       "\n",
       "    .dataframe tbody tr th {\n",
       "        vertical-align: top;\n",
       "    }\n",
       "\n",
       "    .dataframe thead th {\n",
       "        text-align: right;\n",
       "    }\n",
       "</style>\n",
       "<table border=\"1\" class=\"dataframe\">\n",
       "  <thead>\n",
       "    <tr style=\"text-align: right;\">\n",
       "      <th></th>\n",
       "      <th>Nombre</th>\n",
       "      <th>cantidad de accion</th>\n",
       "      <th>cantidad de romance</th>\n",
       "      <th>tipo</th>\n",
       "    </tr>\n",
       "  </thead>\n",
       "  <tbody>\n",
       "    <tr>\n",
       "      <th>0</th>\n",
       "      <td>Robocop</td>\n",
       "      <td>0.90</td>\n",
       "      <td>0.00</td>\n",
       "      <td>accion</td>\n",
       "    </tr>\n",
       "    <tr>\n",
       "      <th>1</th>\n",
       "      <td>Terminator</td>\n",
       "      <td>0.88</td>\n",
       "      <td>0.10</td>\n",
       "      <td>accion</td>\n",
       "    </tr>\n",
       "    <tr>\n",
       "      <th>2</th>\n",
       "      <td>Dia de la independencia</td>\n",
       "      <td>0.90</td>\n",
       "      <td>0.11</td>\n",
       "      <td>accion</td>\n",
       "    </tr>\n",
       "    <tr>\n",
       "      <th>3</th>\n",
       "      <td>Mision Imposible</td>\n",
       "      <td>0.90</td>\n",
       "      <td>0.11</td>\n",
       "      <td>accion</td>\n",
       "    </tr>\n",
       "    <tr>\n",
       "      <th>4</th>\n",
       "      <td>Bourne</td>\n",
       "      <td>0.90</td>\n",
       "      <td>0.20</td>\n",
       "      <td>accion</td>\n",
       "    </tr>\n",
       "    <tr>\n",
       "      <th>5</th>\n",
       "      <td>Rambo</td>\n",
       "      <td>1.00</td>\n",
       "      <td>0.00</td>\n",
       "      <td>accion</td>\n",
       "    </tr>\n",
       "    <tr>\n",
       "      <th>6</th>\n",
       "      <td>Rocky</td>\n",
       "      <td>0.95</td>\n",
       "      <td>0.40</td>\n",
       "      <td>accion</td>\n",
       "    </tr>\n",
       "    <tr>\n",
       "      <th>7</th>\n",
       "      <td>Leopold y Kate</td>\n",
       "      <td>0.10</td>\n",
       "      <td>1.00</td>\n",
       "      <td>romance</td>\n",
       "    </tr>\n",
       "    <tr>\n",
       "      <th>8</th>\n",
       "      <td>Diario de una pasión</td>\n",
       "      <td>0.10</td>\n",
       "      <td>0.90</td>\n",
       "      <td>romance</td>\n",
       "    </tr>\n",
       "    <tr>\n",
       "      <th>9</th>\n",
       "      <td>Operación Dragon</td>\n",
       "      <td>0.75</td>\n",
       "      <td>0.00</td>\n",
       "      <td>accion</td>\n",
       "    </tr>\n",
       "    <tr>\n",
       "      <th>10</th>\n",
       "      <td>Tiempos Violentos</td>\n",
       "      <td>0.95</td>\n",
       "      <td>0.10</td>\n",
       "      <td>accion</td>\n",
       "    </tr>\n",
       "    <tr>\n",
       "      <th>11</th>\n",
       "      <td>Django</td>\n",
       "      <td>0.90</td>\n",
       "      <td>0.30</td>\n",
       "      <td>accion</td>\n",
       "    </tr>\n",
       "    <tr>\n",
       "      <th>12</th>\n",
       "      <td>La boda de mi mejor amigo</td>\n",
       "      <td>0.10</td>\n",
       "      <td>0.85</td>\n",
       "      <td>romance</td>\n",
       "    </tr>\n",
       "    <tr>\n",
       "      <th>13</th>\n",
       "      <td>Mujer bonita</td>\n",
       "      <td>0.00</td>\n",
       "      <td>0.99</td>\n",
       "      <td>romance</td>\n",
       "    </tr>\n",
       "    <tr>\n",
       "      <th>14</th>\n",
       "      <td>Bastardos sin gloria</td>\n",
       "      <td>0.95</td>\n",
       "      <td>0.15</td>\n",
       "      <td>accion</td>\n",
       "    </tr>\n",
       "    <tr>\n",
       "      <th>15</th>\n",
       "      <td>Sherlock Holmes</td>\n",
       "      <td>0.90</td>\n",
       "      <td>0.20</td>\n",
       "      <td>accion</td>\n",
       "    </tr>\n",
       "    <tr>\n",
       "      <th>16</th>\n",
       "      <td>James bond</td>\n",
       "      <td>0.85</td>\n",
       "      <td>0.20</td>\n",
       "      <td>accion</td>\n",
       "    </tr>\n",
       "    <tr>\n",
       "      <th>17</th>\n",
       "      <td>El último samurai</td>\n",
       "      <td>0.85</td>\n",
       "      <td>0.20</td>\n",
       "      <td>accion</td>\n",
       "    </tr>\n",
       "    <tr>\n",
       "      <th>18</th>\n",
       "      <td>Orgullo y prejuicio</td>\n",
       "      <td>0.10</td>\n",
       "      <td>0.85</td>\n",
       "      <td>romance</td>\n",
       "    </tr>\n",
       "    <tr>\n",
       "      <th>19</th>\n",
       "      <td>Cásese quien pueda</td>\n",
       "      <td>0.10</td>\n",
       "      <td>0.90</td>\n",
       "      <td>romance</td>\n",
       "    </tr>\n",
       "    <tr>\n",
       "      <th>20</th>\n",
       "      <td>Nothing Hill</td>\n",
       "      <td>0.10</td>\n",
       "      <td>0.90</td>\n",
       "      <td>romance</td>\n",
       "    </tr>\n",
       "    <tr>\n",
       "      <th>21</th>\n",
       "      <td>Media noche en paris</td>\n",
       "      <td>0.40</td>\n",
       "      <td>0.95</td>\n",
       "      <td>romance</td>\n",
       "    </tr>\n",
       "  </tbody>\n",
       "</table>\n",
       "</div>"
      ],
      "text/plain": [
       "                       Nombre  cantidad de accion  cantidad de romance  \\\n",
       "0                     Robocop                0.90                 0.00   \n",
       "1                  Terminator                0.88                 0.10   \n",
       "2     Dia de la independencia                0.90                 0.11   \n",
       "3            Mision Imposible                0.90                 0.11   \n",
       "4                      Bourne                0.90                 0.20   \n",
       "5                       Rambo                1.00                 0.00   \n",
       "6                       Rocky                0.95                 0.40   \n",
       "7              Leopold y Kate                0.10                 1.00   \n",
       "8        Diario de una pasión                0.10                 0.90   \n",
       "9            Operación Dragon                0.75                 0.00   \n",
       "10          Tiempos Violentos                0.95                 0.10   \n",
       "11                     Django                0.90                 0.30   \n",
       "12  La boda de mi mejor amigo                0.10                 0.85   \n",
       "13               Mujer bonita                0.00                 0.99   \n",
       "14       Bastardos sin gloria                0.95                 0.15   \n",
       "15            Sherlock Holmes                0.90                 0.20   \n",
       "16                 James bond                0.85                 0.20   \n",
       "17          El último samurai                0.85                 0.20   \n",
       "18        Orgullo y prejuicio                0.10                 0.85   \n",
       "19         Cásese quien pueda                0.10                 0.90   \n",
       "20               Nothing Hill                0.10                 0.90   \n",
       "21       Media noche en paris                0.40                 0.95   \n",
       "\n",
       "       tipo  \n",
       "0    accion  \n",
       "1    accion  \n",
       "2    accion  \n",
       "3    accion  \n",
       "4    accion  \n",
       "5    accion  \n",
       "6    accion  \n",
       "7   romance  \n",
       "8   romance  \n",
       "9    accion  \n",
       "10   accion  \n",
       "11   accion  \n",
       "12  romance  \n",
       "13  romance  \n",
       "14   accion  \n",
       "15   accion  \n",
       "16   accion  \n",
       "17   accion  \n",
       "18  romance  \n",
       "19  romance  \n",
       "20  romance  \n",
       "21  romance  "
      ]
     },
     "execution_count": 2,
     "metadata": {},
     "output_type": "execute_result"
    }
   ],
   "source": [
    "df_peliculas = pd.read_csv('dataset_peliculas.csv')\n",
    "df_peliculas"
   ]
  },
  {
   "cell_type": "markdown",
   "metadata": {},
   "source": [
    "### Transformando en datasets de entrenamiento y prueba.\n",
    "Ahora, vamos a tomar las columnas \"cantidad de accion\" y \"cantidad de romance\", y vamos a transformarlas en nuestras variables a clasificar por K-medias. Como aqui tengo acción y romance, hay que mappear \"accion\" a 0, y \"romance\" a 1, para hacer un dataset de entrenamiento y prueba."
   ]
  },
  {
   "cell_type": "code",
   "execution_count": 3,
   "metadata": {
    "collapsed": true
   },
   "outputs": [],
   "source": [
    "x = df_peliculas[['cantidad de accion', 'cantidad de romance']].to_numpy()\n",
    "y = df_peliculas['tipo'].map({\n",
    "    'accion':0,\n",
    "    'romance':1\n",
    "}).to_numpy()\n",
    "\n",
    "x_train, x_test, y_train, y_test = train_test_split(x,y,test_size=0.4)"
   ]
  },
  {
   "cell_type": "markdown",
   "metadata": {},
   "source": [
    "#### Centroides.\n",
    "Una vez mappeado, vamos a entrenar el algoritmo de K-medias de forma automática, y extraigamos los centroides obtenidos."
   ]
  },
  {
   "cell_type": "code",
   "execution_count": 4,
   "metadata": {},
   "outputs": [
    {
     "name": "stdout",
     "output_type": "stream",
     "text": [
      "[[0.075      0.91      ]\n",
      " [0.87777778 0.13555556]]\n"
     ]
    }
   ],
   "source": [
    "modelo_kmeans = KMeans(n_clusters = 2).fit(x_train)\n",
    "centroides = modelo_kmeans.cluster_centers_\n",
    "print(centroides)"
   ]
  },
  {
   "cell_type": "markdown",
   "metadata": {},
   "source": [
    "### Sistema de recomendación.\n",
    "Muy bien! ya tenemos los datos, centroides, y estamos listos para crear un sistema que nos recomiende películas. Para ello usaremos la librería MLUtilites que hemos estado construyendo en esta sesión."
   ]
  },
  {
   "cell_type": "code",
   "execution_count": 5,
   "metadata": {
    "collapsed": true
   },
   "outputs": [],
   "source": [
    "import MLUtilities as utils"
   ]
  },
  {
   "cell_type": "markdown",
   "metadata": {},
   "source": [
    "Esta función va a recibir la lista de todas las peliculas (solo el texto), los datos de todas las películas (igual que como sacamos X), la pelicula ejemplo (Los valores de cantidad de acción y cantidad de romance), y los centroides de Kmeans."
   ]
  },
  {
   "cell_type": "code",
   "execution_count": 6,
   "metadata": {
    "collapsed": true
   },
   "outputs": [],
   "source": [
    "def recomiendamePeliculas(listaDePeliculas,datosPeliculas,peliculaEjemplo,centroides):\n",
    "    #Vamos a buscar el centroide mas cercano (con MLUtilities ;) )\n",
    "    clasificacionDeseada = utils.centroideCercano(peliculaEjemplo, centroides)\n",
    "    \n",
    "    #Luego, vamos a clasificar todas las peliculas por centroides.\n",
    "    clasificaciones = utils.clasificarPorCentroides(datosPeliculas, centroides)\n",
    "    \n",
    "    #Finalmente, sacaremos los indices que hacen match entre clasificaciones.\n",
    "    indices = np.where(clasificaciones == clasificacionDeseada)[0]\n",
    "    \n",
    "    #Y regresamos la lista de peliculas.\n",
    "    return listaDePeliculas[indices]"
   ]
  },
  {
   "cell_type": "markdown",
   "metadata": {},
   "source": [
    "#### Recomiendame una película!\n",
    "Elige un índice del dataframe (por decir algo... 5), y extrae la película que elegiste. Luego extrae sus características, y pide las recomendaciones!"
   ]
  },
  {
   "cell_type": "code",
   "execution_count": 9,
   "metadata": {},
   "outputs": [
    {
     "name": "stdout",
     "output_type": "stream",
     "text": [
      "Porque viste Rambo ...\n",
      "0                     Robocop\n",
      "1                  Terminator\n",
      "2     Dia de la independencia\n",
      "3            Mision Imposible\n",
      "4                      Bourne\n",
      "5                       Rambo\n",
      "6                       Rocky\n",
      "9            Operación Dragon\n",
      "10          Tiempos Violentos\n",
      "11                     Django\n",
      "14       Bastardos sin gloria\n",
      "15            Sherlock Holmes\n",
      "16                 James bond\n",
      "17          El último samurai\n",
      "Name: Nombre, dtype: object\n"
     ]
    }
   ],
   "source": [
    "#Sientete libre de cambiar este valor.\n",
    "indice_df = 5\n",
    "\n",
    "#Extrae la película que deseas del dataframe.\n",
    "peliculaElegida = df_peliculas.iloc[indice_df]\n",
    "\n",
    "#Obten las características de la pelicula que elegiste.\n",
    "caracteristicaPelicula = peliculaElegida[['cantidad de accion', 'cantidad de romance']].to_numpy()\n",
    "\n",
    "#Obten la lista de recomendaciones\n",
    "recomendaciones = recomiendamePeliculas(df_peliculas['Nombre'],x, caracteristicaPelicula, centroides)\n",
    "\n",
    "#E imprime lo que hallaste!\n",
    "print(\"Porque viste \"+peliculaElegida['Nombre']+\" ...\")\n",
    "print(recomendaciones)"
   ]
  },
  {
   "cell_type": "code",
   "execution_count": null,
   "metadata": {
    "collapsed": true
   },
   "outputs": [],
   "source": []
  }
 ],
 "metadata": {
  "kernelspec": {
   "display_name": "Python 3",
   "language": "python",
   "name": "python3"
  },
  "language_info": {
   "codemirror_mode": {
    "name": "ipython",
    "version": 3
   },
   "file_extension": ".py",
   "mimetype": "text/x-python",
   "name": "python",
   "nbconvert_exporter": "python",
   "pygments_lexer": "ipython3",
   "version": "3.6.2"
  }
 },
 "nbformat": 4,
 "nbformat_minor": 2
}
