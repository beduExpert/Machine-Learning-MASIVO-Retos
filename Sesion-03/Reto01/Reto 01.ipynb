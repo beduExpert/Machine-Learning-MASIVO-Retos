{
 "cells": [
  {
   "cell_type": "markdown",
   "metadata": {},
   "source": [
    "# Reto 01: Librería de utilidades.\n",
    "**_Dr. Antonio Arista._**\n",
    "\n",
    "Deberás de crear una librería de utilidades, y copiarla a un archivo de python (.py)\n",
    "\n",
    "En este reto voy a probar que todas las funciones trabajen como esperamos, antes de copiarlas al archivo .py, ya que tenemos que asegurarnos que harán todo lo que necesitamos."
   ]
  },
  {
   "cell_type": "code",
   "execution_count": 1,
   "metadata": {
    "collapsed": true
   },
   "outputs": [],
   "source": [
    "import numpy as np"
   ]
  },
  {
   "cell_type": "markdown",
   "metadata": {},
   "source": [
    "### Paso 1: Distancia euclidiana\n",
    "Lo primero será crear la distancia euclidiana, que usaremos a montones.\n",
    "La distancia euclidiana también puede llamarse la norma. Puedes usar tu fórmula original, pero esta es un poco más rápida."
   ]
  },
  {
   "cell_type": "code",
   "execution_count": 2,
   "metadata": {
    "collapsed": true
   },
   "outputs": [],
   "source": [
    "## Distancia eucilidiana:\n",
    "def distEuclidiana(muestra, dataset):\n",
    "    distancias = np.zeros((dataset.shape[0],1))\n",
    "    for counter in range(0,dataset.shape[0]):\n",
    "        distancias[counter] = np.linalg.norm(muestra-dataset[counter])\n",
    "    return distancias"
   ]
  },
  {
   "cell_type": "code",
   "execution_count": 3,
   "metadata": {},
   "outputs": [
    {
     "name": "stdout",
     "output_type": "stream",
     "text": [
      "[[0.]\n",
      " [2.]\n",
      " [4.]]\n"
     ]
    }
   ],
   "source": [
    "#Prueba de distancia euclidiana:\n",
    "muestra = np.array([1,2,3,4])\n",
    "dataset = np.array([[1,2,3,4],\n",
    "                    [2,3,4,5],\n",
    "                    [3,4,5,6]])\n",
    "distancias = distEuclidiana(muestra, dataset)\n",
    "print(distancias)"
   ]
  },
  {
   "cell_type": "markdown",
   "metadata": {},
   "source": [
    "### Paso 2: Obtener el centroide mas cercano\n",
    "En esa función, vamos a necesitar obtener el centroide más cerano de entre una lista. Esto se logra con \"argmin\""
   ]
  },
  {
   "cell_type": "code",
   "execution_count": 4,
   "metadata": {
    "collapsed": true
   },
   "outputs": [],
   "source": [
    "def centroideCercano(muestra, listaCentroides):\n",
    "    listaDistancias = distEuclidiana(muestra, listaCentroides)\n",
    "    centroideCercano = np.argmin(listaDistancias)\n",
    "    return centroideCercano"
   ]
  },
  {
   "cell_type": "code",
   "execution_count": 5,
   "metadata": {},
   "outputs": [
    {
     "name": "stdout",
     "output_type": "stream",
     "text": [
      "El centroide mas cercano es: 0\n"
     ]
    }
   ],
   "source": [
    "#Prueba de centroide mas cercano:\n",
    "muestra = np.array([1,2,3,4])\n",
    "centroides = np.array([[1,2,3,4],\n",
    "                    [2,3,4,5],\n",
    "                    [3,4,5,6]])\n",
    "resultado = centroideCercano(muestra, centroides)\n",
    "print(\"El centroide mas cercano es: \"+str(resultado))"
   ]
  },
  {
   "cell_type": "markdown",
   "metadata": {},
   "source": [
    "### Paso 3: Repetir eso para todas las muestras\n",
    "En esta función vamos a utilizar la funcion \"centroideCercano\" para clasificar todas las muestras"
   ]
  },
  {
   "cell_type": "code",
   "execution_count": 6,
   "metadata": {
    "collapsed": true
   },
   "outputs": [],
   "source": [
    "def clasificarPorCentroides(muestras, centroides):\n",
    "    resultado = np.zeros((muestras.shape[0],1))\n",
    "    for counter in range(0, muestras.shape[0]):\n",
    "        resultado[counter] = centroideCercano(muestras[counter], centroides)\n",
    "    return resultado"
   ]
  },
  {
   "cell_type": "code",
   "execution_count": 7,
   "metadata": {},
   "outputs": [
    {
     "name": "stdout",
     "output_type": "stream",
     "text": [
      "[[0.]\n",
      " [1.]\n",
      " [2.]]\n"
     ]
    }
   ],
   "source": [
    "#Prueba de todos los centroides vs todas las muestras.\n",
    "muestras = np.array([[1,2,3,4],\n",
    "                    [2,3,4,5],\n",
    "                    [3,4,5,6]])\n",
    "\n",
    "centroides = np.array([[1,2,3,4],\n",
    "                    [2,3,4,5],\n",
    "                    [3,4,5,6]])\n",
    "\n",
    "resultados = clasificarPorCentroides(muestras,centroides)\n",
    "print(resultados)"
   ]
  },
  {
   "cell_type": "code",
   "execution_count": null,
   "metadata": {
    "collapsed": true
   },
   "outputs": [],
   "source": []
  }
 ],
 "metadata": {
  "kernelspec": {
   "display_name": "Python 3",
   "language": "python",
   "name": "python3"
  },
  "language_info": {
   "codemirror_mode": {
    "name": "ipython",
    "version": 3
   },
   "file_extension": ".py",
   "mimetype": "text/x-python",
   "name": "python",
   "nbconvert_exporter": "python",
   "pygments_lexer": "ipython3",
   "version": "3.6.2"
  }
 },
 "nbformat": 4,
 "nbformat_minor": 2
}
