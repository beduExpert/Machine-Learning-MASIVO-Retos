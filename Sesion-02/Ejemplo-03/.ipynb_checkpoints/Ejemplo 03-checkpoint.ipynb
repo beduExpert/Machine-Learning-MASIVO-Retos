{
 "cells": [
  {
   "cell_type": "markdown",
   "metadata": {},
   "source": [
    "# Ejemplo 03\n",
    "***Dr. Antonio Arista Jalife***\n",
    "\n",
    "En este ejemplo vamos a generar unos datos dummy con numpy, y vamos a separarlos de tal manera que puedas elegir en cuantas separaciones deseas con K-fold. Es importante que veas como los datos son separados aleatoriamente y no se repiten en cada fold. Si la cantidad de folds no permiten bloques, algunos ciclos tendrán mas (o menos) datos."
   ]
  },
  {
   "cell_type": "code",
   "execution_count": 1,
   "metadata": {
    "collapsed": true
   },
   "outputs": [],
   "source": [
    "import numpy as np\n",
    "from sklearn.model_selection import KFold"
   ]
  },
  {
   "cell_type": "code",
   "execution_count": 2,
   "metadata": {},
   "outputs": [
    {
     "name": "stdout",
     "output_type": "stream",
     "text": [
      "Ciclo: 1\n",
      "\t datos para entrenamiento:[ 1  2  3  4  5  6  7  8  9 11 12]\n",
      "\t datos para prueba:[10]\n",
      "Ciclo: 2\n",
      "\t datos para entrenamiento:[ 1  2  3  4  5  6  7  8 10 11 12]\n",
      "\t datos para prueba:[9]\n",
      "Ciclo: 3\n",
      "\t datos para entrenamiento:[ 1  2  3  4  5  6  7  9 10 11 12]\n",
      "\t datos para prueba:[8]\n",
      "Ciclo: 4\n",
      "\t datos para entrenamiento:[ 1  2  3  4  5  7  8  9 10 11 12]\n",
      "\t datos para prueba:[6]\n",
      "Ciclo: 5\n",
      "\t datos para entrenamiento:[ 1  2  4  5  6  7  8  9 10 11 12]\n",
      "\t datos para prueba:[3]\n",
      "Ciclo: 6\n",
      "\t datos para entrenamiento:[ 1  2  3  4  5  6  8  9 10 11 12]\n",
      "\t datos para prueba:[7]\n",
      "Ciclo: 7\n",
      "\t datos para entrenamiento:[ 1  2  3  4  5  6  7  8  9 10 11]\n",
      "\t datos para prueba:[12]\n",
      "Ciclo: 8\n",
      "\t datos para entrenamiento:[ 1  2  3  4  5  6  7  8  9 10 12]\n",
      "\t datos para prueba:[11]\n",
      "Ciclo: 9\n",
      "\t datos para entrenamiento:[ 1  2  3  4  6  7  8  9 10 11 12]\n",
      "\t datos para prueba:[5]\n",
      "Ciclo: 10\n",
      "\t datos para entrenamiento:[ 1  3  4  5  6  7  8  9 10 11 12]\n",
      "\t datos para prueba:[2]\n",
      "Ciclo: 11\n",
      "\t datos para entrenamiento:[ 1  2  3  5  6  7  8  9 10 11 12]\n",
      "\t datos para prueba:[4]\n",
      "Ciclo: 12\n",
      "\t datos para entrenamiento:[ 2  3  4  5  6  7  8  9 10 11 12]\n",
      "\t datos para prueba:[1]\n"
     ]
    }
   ],
   "source": [
    "data = np.array([1,2,3,4,5,6,7,8,9,10,11,12])\n",
    "\n",
    "K = data.shape[0] # K = numero de muestras...\n",
    "random_seed = 48\n",
    "aleatorio = True\n",
    "\n",
    "kfold = KFold(K, aleatorio, random_seed)\n",
    "ciclo = 1\n",
    "for indices_train, indices_test in kfold.split(data):\n",
    "    print(\"Ciclo: \"+str(ciclo))\n",
    "    print(\"\\t datos para entrenamiento:\"+str(data[indices_train]))\n",
    "    print(\"\\t datos para prueba:\"+str(data[indices_test]))\n",
    "    ciclo+=1"
   ]
  },
  {
   "cell_type": "code",
   "execution_count": null,
   "metadata": {
    "collapsed": true
   },
   "outputs": [],
   "source": []
  }
 ],
 "metadata": {
  "kernelspec": {
   "display_name": "Python 3",
   "language": "python",
   "name": "python3"
  },
  "language_info": {
   "codemirror_mode": {
    "name": "ipython",
    "version": 3
   },
   "file_extension": ".py",
   "mimetype": "text/x-python",
   "name": "python",
   "nbconvert_exporter": "python",
   "pygments_lexer": "ipython3",
   "version": "3.6.2"
  }
 },
 "nbformat": 4,
 "nbformat_minor": 2
}
