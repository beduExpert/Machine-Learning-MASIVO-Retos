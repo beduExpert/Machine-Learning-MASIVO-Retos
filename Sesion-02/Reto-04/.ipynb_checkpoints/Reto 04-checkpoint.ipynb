{
 "cells": [
  {
   "cell_type": "markdown",
   "metadata": {},
   "source": [
    "# Reto 04\n",
    "***Dr. Antonio Arista Jalife***\n",
    "\n",
    "En este reto vamos a calcular accuracy, sensibilidad y especificidad, para ello, condensaré el ejemplo 4 en una sola celda, y a partir de ahí generaré el reto :) "
   ]
  },
  {
   "cell_type": "code",
   "execution_count": 1,
   "metadata": {},
   "outputs": [
    {
     "name": "stdout",
     "output_type": "stream",
     "text": [
      "[[3 1]\n",
      " [2 2]]\n",
      "True positives: 2\n",
      "True negatives: 3\n",
      "False positives: 1\n",
      "False negative: 2\n"
     ]
    }
   ],
   "source": [
    "import numpy as np\n",
    "from sklearn.metrics import confusion_matrix\n",
    "\n",
    "y_esperados = np.array([1,1,1,1,0,0,0,0])\n",
    "y_predichos = np.array([1,0,1,0,1,0,0,0])\n",
    "resultado = confusion_matrix(y_esperados, y_predichos)\n",
    "print(resultado)\n",
    "(TN, FP, FN, TP) = resultado.ravel()\n",
    "print(\"True positives: \"+str(TP))\n",
    "print(\"True negatives: \"+str(TN))\n",
    "print(\"False positives: \"+str(FP))\n",
    "print(\"False negative: \"+str(FN))"
   ]
  },
  {
   "cell_type": "code",
   "execution_count": 2,
   "metadata": {
    "collapsed": true
   },
   "outputs": [],
   "source": [
    "def calcularAccuracy(TP, TN, FP, FN):\n",
    "    accuracy = (TP + TN) / (TP + TN + FP + FN)\n",
    "    accuracy = accuracy * 100\n",
    "    return accuracy"
   ]
  },
  {
   "cell_type": "code",
   "execution_count": 3,
   "metadata": {
    "collapsed": true
   },
   "outputs": [],
   "source": [
    "def calcularSensibilidad(TP, TN, FP, FN):\n",
    "    sensibilidad = TP / (TP + FN)\n",
    "    sensibilidad = sensibilidad * 100\n",
    "    return sensibilidad"
   ]
  },
  {
   "cell_type": "code",
   "execution_count": 4,
   "metadata": {
    "collapsed": true
   },
   "outputs": [],
   "source": [
    "def calcularEspecificidad(TP, TN, FP, FN):\n",
    "    especificidad = TN / (TN + FP)\n",
    "    especificidad = especificidad * 100\n",
    "    return especificidad"
   ]
  },
  {
   "cell_type": "code",
   "execution_count": 5,
   "metadata": {},
   "outputs": [
    {
     "name": "stdout",
     "output_type": "stream",
     "text": [
      "Precision:62.5%\n",
      "Sensibilidad:50.0%\n",
      "Especificidad:75.0%\n"
     ]
    }
   ],
   "source": [
    "acc = calcularAccuracy(TP, TN, FP, FN)\n",
    "sen = calcularSensibilidad(TP, TN, FP, FN)\n",
    "spec = calcularEspecificidad(TP, TN, FP, FN)\n",
    "print(\"Precision:\"+str(acc)+\"%\")\n",
    "print(\"Sensibilidad:\"+str(sen)+\"%\")\n",
    "print(\"Especificidad:\"+str(spec)+\"%\")"
   ]
  },
  {
   "cell_type": "code",
   "execution_count": null,
   "metadata": {
    "collapsed": true
   },
   "outputs": [],
   "source": []
  }
 ],
 "metadata": {
  "kernelspec": {
   "display_name": "Python 3",
   "language": "python",
   "name": "python3"
  },
  "language_info": {
   "codemirror_mode": {
    "name": "ipython",
    "version": 3
   },
   "file_extension": ".py",
   "mimetype": "text/x-python",
   "name": "python",
   "nbconvert_exporter": "python",
   "pygments_lexer": "ipython3",
   "version": "3.6.2"
  }
 },
 "nbformat": 4,
 "nbformat_minor": 2
}
