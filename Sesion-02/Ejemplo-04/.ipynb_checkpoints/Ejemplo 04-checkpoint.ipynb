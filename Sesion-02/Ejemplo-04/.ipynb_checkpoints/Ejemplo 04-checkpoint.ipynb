{
 "cells": [
  {
   "cell_type": "markdown",
   "metadata": {},
   "source": [
    "# Ejemplo 04\n",
    "***Dr. Antonio Arista Jalife***\n",
    "\n",
    "En este ejemplo vamos a generar una matriz de confusión y obtener true positives (TP), true negatives (TN), false positives (FP) y false negatives (FN)"
   ]
  },
  {
   "cell_type": "code",
   "execution_count": 1,
   "metadata": {
    "collapsed": true
   },
   "outputs": [],
   "source": [
    "import numpy as np\n",
    "from sklearn.metrics import confusion_matrix"
   ]
  },
  {
   "cell_type": "markdown",
   "metadata": {},
   "source": [
    "Supongamos que tenemos unos datos \"y_esperados\" y nuestro algoritmo de Machine Learning nos arrojó los datos \"y_predichos\""
   ]
  },
  {
   "cell_type": "code",
   "execution_count": 2,
   "metadata": {
    "collapsed": true
   },
   "outputs": [],
   "source": [
    "y_esperados = np.array([1,1,1,1,0,0,0,0])\n",
    "y_predichos = np.array([1,0,1,0,1,0,0,0])"
   ]
  },
  {
   "cell_type": "code",
   "execution_count": 3,
   "metadata": {},
   "outputs": [
    {
     "name": "stdout",
     "output_type": "stream",
     "text": [
      "[[3 1]\n",
      " [2 2]]\n"
     ]
    }
   ],
   "source": [
    "resultado = confusion_matrix(y_esperados, y_predichos)\n",
    "print(resultado)"
   ]
  },
  {
   "cell_type": "markdown",
   "metadata": {},
   "source": [
    "Y ahora con estos datos, podemos obtener los TP, TN, FP, y FN de la siguiente manera:"
   ]
  },
  {
   "cell_type": "code",
   "execution_count": 4,
   "metadata": {},
   "outputs": [
    {
     "name": "stdout",
     "output_type": "stream",
     "text": [
      "True positives: 2\n",
      "True negatives: 3\n",
      "False positives: 1\n",
      "False negative: 2\n"
     ]
    }
   ],
   "source": [
    "(TN, FP, FN, TP) = resultado.ravel()\n",
    "print(\"True positives: \"+str(TP))\n",
    "print(\"True negatives: \"+str(TN))\n",
    "print(\"False positives: \"+str(FP))\n",
    "print(\"False negative: \"+str(FN))"
   ]
  },
  {
   "cell_type": "code",
   "execution_count": null,
   "metadata": {
    "collapsed": true
   },
   "outputs": [],
   "source": []
  }
 ],
 "metadata": {
  "kernelspec": {
   "display_name": "Python 3",
   "language": "python",
   "name": "python3"
  },
  "language_info": {
   "codemirror_mode": {
    "name": "ipython",
    "version": 3
   },
   "file_extension": ".py",
   "mimetype": "text/x-python",
   "name": "python",
   "nbconvert_exporter": "python",
   "pygments_lexer": "ipython3",
   "version": "3.6.2"
  }
 },
 "nbformat": 4,
 "nbformat_minor": 2
}
