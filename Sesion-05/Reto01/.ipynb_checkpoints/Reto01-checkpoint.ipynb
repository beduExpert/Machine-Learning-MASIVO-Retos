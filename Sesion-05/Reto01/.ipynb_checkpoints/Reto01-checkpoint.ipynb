{
 "cells": [
  {
   "cell_type": "markdown",
   "metadata": {},
   "source": [
    "# Reto 01:\n",
    "**_Dr. Antonio Arista Jalife_**\n",
    "\n",
    "Para este reto vamos a crear algunas funciones útiles, para que puedas usarlas a tu conveniencia y puedas jugar con el Adivina quien. Primero, vamos a importar NumPy, ya que lo usaremos mucho"
   ]
  },
  {
   "cell_type": "code",
   "execution_count": 1,
   "metadata": {
    "collapsed": true
   },
   "outputs": [],
   "source": [
    "import numpy as np"
   ]
  },
  {
   "cell_type": "markdown",
   "metadata": {},
   "source": [
    "Las salidas (los nombres de sospechosos) y la matriz de características serán la misma del ejemplo 01, sientete libre de editar todo esto (y colocar tus propias características!):"
   ]
  },
  {
   "cell_type": "code",
   "execution_count": 2,
   "metadata": {
    "collapsed": true
   },
   "outputs": [],
   "source": [
    "#Para las salidas, utilizaremos la variable Y\n",
    "y = [\"Antonio\", \"Elly\", \"Patricia\", \"María\", \"Juana\", \"José\", \"Luis\"]"
   ]
  },
  {
   "cell_type": "markdown",
   "metadata": {},
   "source": [
    "Las características (matrices) son las mismas del ejemplo 01:"
   ]
  },
  {
   "cell_type": "code",
   "execution_count": 3,
   "metadata": {
    "collapsed": true
   },
   "outputs": [],
   "source": [
    "#Características: \n",
    "#Cabello largo | Usa lentes | Usa sombrero | Es mujer | Tiene bigote | Tiene ojos claros\n",
    "x = np.array([\n",
    "     [0,1,0,0,0,0], #Antonio: No tiene cabello largo, usa lentes, no usa sombrero, no es mujer, no tiene bigote, no tiene ojos claros\n",
    "     [1,1,1,1,0,0], #Elly: Tiene cabello largo, usa lentes, usa sombrero, es mujer, no tiene bigote, no tiene ojos claros\n",
    "     [0,0,1,1,0,1], #Patricia: ...\n",
    "     [1,1,0,1,0,0], #Maria: ...\n",
    "     [0,0,1,1,0,0], #Juana: ...\n",
    "     [1,0,0,0,1,1], #José: ...\n",
    "     [0,1,1,0,0,1]  #Luis: ...\n",
    "    ], dtype=np.int16)"
   ]
  },
  {
   "cell_type": "markdown",
   "metadata": {},
   "source": [
    "Crearé las funciones para que puedas probar constantemente diferentes preguntas:"
   ]
  },
  {
   "cell_type": "code",
   "execution_count": 4,
   "metadata": {
    "collapsed": true
   },
   "outputs": [],
   "source": [
    "def mostrarSospechosos(nombres, sospechosos):\n",
    "    print(\"Sospechosos que quedan:\")\n",
    "    for contador in range(len(sospechosos)):\n",
    "        if(sospechosos[contador] == True):\n",
    "            print(nombres[contador])"
   ]
  },
  {
   "cell_type": "code",
   "execution_count": 5,
   "metadata": {},
   "outputs": [
    {
     "name": "stdout",
     "output_type": "stream",
     "text": [
      "Sospechosos que quedan:\n",
      "Antonio\n",
      "Elly\n",
      "Patricia\n",
      "María\n",
      "Juana\n",
      "José\n",
      "Luis\n"
     ]
    }
   ],
   "source": [
    "#Por ejemplo, vamos a imprimir a todos como sospechosos.\n",
    "sospechosos = [True]*len(y)\n",
    "mostrarSospechosos(y, sospechosos)"
   ]
  },
  {
   "cell_type": "markdown",
   "metadata": {},
   "source": [
    "Con esta función puedes hacer una decisión del árbol:"
   ]
  },
  {
   "cell_type": "code",
   "execution_count": 6,
   "metadata": {
    "collapsed": true
   },
   "outputs": [],
   "source": [
    "def descartarSospechosos(caracteristica, valorQueBuscas, sospechosos):\n",
    "    respuesta = np.where(x[:,caracteristica] == valorQueBuscas, True, False)\n",
    "    for contador in range(len(sospechosos)):\n",
    "        respuesta[contador] = sospechosos[contador] and respuesta[contador]\n",
    "    return respuesta"
   ]
  },
  {
   "cell_type": "markdown",
   "metadata": {},
   "source": [
    "Por ejemplo, veamos como descartamos a aquellos que tienen cabello largo (la característica en la columna 0)"
   ]
  },
  {
   "cell_type": "code",
   "execution_count": 7,
   "metadata": {},
   "outputs": [
    {
     "name": "stdout",
     "output_type": "stream",
     "text": [
      "Sospechosos que quedan:\n",
      "Elly\n",
      "María\n",
      "José\n"
     ]
    }
   ],
   "source": [
    "sospechosos = descartarSospechosos(caracteristica = 0, valorQueBuscas = 1, sospechosos = sospechosos)\n",
    "mostrarSospechosos(y,sospechosos)"
   ]
  },
  {
   "cell_type": "markdown",
   "metadata": {},
   "source": [
    "Reiniciaré los sospechosos a Todos en True, a partir de ahora, se creativo y elige con \"descartarSospechosos\" y ve cuantos quedan con \"mostrarSospechosos\"!"
   ]
  },
  {
   "cell_type": "code",
   "execution_count": 8,
   "metadata": {
    "collapsed": true
   },
   "outputs": [],
   "source": [
    "sospechosos = [True]*len(y)"
   ]
  },
  {
   "cell_type": "code",
   "execution_count": null,
   "metadata": {
    "collapsed": true
   },
   "outputs": [],
   "source": []
  }
 ],
 "metadata": {
  "kernelspec": {
   "display_name": "Python 3",
   "language": "python",
   "name": "python3"
  },
  "language_info": {
   "codemirror_mode": {
    "name": "ipython",
    "version": 3
   },
   "file_extension": ".py",
   "mimetype": "text/x-python",
   "name": "python",
   "nbconvert_exporter": "python",
   "pygments_lexer": "ipython3",
   "version": "3.6.2"
  }
 },
 "nbformat": 4,
 "nbformat_minor": 2
}
