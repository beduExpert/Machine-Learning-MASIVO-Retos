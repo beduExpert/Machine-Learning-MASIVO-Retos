{
 "cells": [
  {
   "cell_type": "markdown",
   "metadata": {},
   "source": [
    "# Reto 03\n",
    "**_Dr. Antonio Arista Jalife_**\n",
    "\n",
    "Esta es la solución al reto 03, y si no lo has resuelto, te invito a intentar con el otro cuaderno! No te rindas!\n",
    "\n",
    "Para comenzar con la solución, añadiremos las librerías que necesitamos. "
   ]
  },
  {
   "cell_type": "code",
   "execution_count": 1,
   "metadata": {},
   "outputs": [],
   "source": [
    "import numpy as np\n",
    "from matplotlib import pyplot as plt\n",
    "from sklearn.datasets import make_blobs\n",
    "from sklearn.model_selection import train_test_split\n",
    "from sklearn.ensemble import RandomForestClassifier as forest\n",
    "from sklearn.metrics import confusion_matrix"
   ]
  },
  {
   "cell_type": "markdown",
   "metadata": {},
   "source": [
    "Hacemos 1000 blobs aleatorios, con 10 características cada uno, pero solo 2 clases (o centers). Una vez generados, vamos a separarlos en entrenamiento y pruebas. 60% entrenamiento, 40% pruebas."
   ]
  },
  {
   "cell_type": "code",
   "execution_count": 2,
   "metadata": {},
   "outputs": [
    {
     "data": {
      "image/png": "[encoded data removed]",
      "text/plain": [
       "<matplotlib.figure.Figure at 0x2179030ef60>"
      ]
     },
     "metadata": {},
     "output_type": "display_data"
    }
   ],
   "source": [
    "x, y = make_blobs(n_samples=1000, centers=2, n_features=10)\n",
    "plt.scatter(x[:,0], x[:,1], c=y)\n",
    "plt.show()\n",
    "\n",
    "x_entrenamiento, x_pruebas, y_entrenamiento, y_pruebas = train_test_split(x, y, test_size =0.40)"
   ]
  },
  {
   "cell_type": "markdown",
   "metadata": {},
   "source": [
    "Vamos a generar un bosque de 800 árboles de decisión, y los vamos a entrenar con los datos de entrenamiento. Una vez entrenado el bosque, haremos que trate de predecir los datos con las entradas de prueba (x_pruebas)"
   ]
  },
  {
   "cell_type": "code",
   "execution_count": 3,
   "metadata": {},
   "outputs": [],
   "source": [
    "bosque = forest(n_estimators = 800)\n",
    "bosque.fit(x_entrenamiento, y_entrenamiento)\n",
    "y_predichos = bosque.predict(x_pruebas)"
   ]
  },
  {
   "cell_type": "markdown",
   "metadata": {},
   "source": [
    "Utilizando lo aprendido de la sesión 2, vamos a generar una matriz de confusión, y vamos a buscar los TP, TN, FP, y FN"
   ]
  },
  {
   "cell_type": "code",
   "execution_count": 4,
   "metadata": {},
   "outputs": [
    {
     "name": "stdout",
     "output_type": "stream",
     "text": [
      "[[203   0]\n",
      " [  0 197]]\n"
     ]
    }
   ],
   "source": [
    "resultado = confusion_matrix(y_pruebas, y_predichos)\n",
    "print(resultado)"
   ]
  },
  {
   "cell_type": "code",
   "execution_count": 5,
   "metadata": {},
   "outputs": [
    {
     "name": "stdout",
     "output_type": "stream",
     "text": [
      "True positives: 197\n",
      "True negatives: 203\n",
      "False positives: 0\n",
      "False negative: 0\n"
     ]
    }
   ],
   "source": [
    "(TN, FP, FN, TP) = resultado.ravel()\n",
    "print(\"True positives: \"+str(TP))\n",
    "print(\"True negatives: \"+str(TN))\n",
    "print(\"False positives: \"+str(FP))\n",
    "print(\"False negative: \"+str(FN))"
   ]
  },
  {
   "cell_type": "markdown",
   "metadata": {},
   "source": [
    "Y recordando la sesión 02, vamos a calcular la accuracy, sensibilidad y especificidad."
   ]
  },
  {
   "cell_type": "code",
   "execution_count": 6,
   "metadata": {},
   "outputs": [
    {
     "name": "stdout",
     "output_type": "stream",
     "text": [
      "Precision:100.0%\n",
      "Sensibilidad:100.0%\n",
      "Especificidad:100.0%\n"
     ]
    }
   ],
   "source": [
    "def calcularAccuracy(TP, TN, FP, FN):\n",
    "    accuracy = (TP + TN) / (TP + TN + FP + FN)\n",
    "    accuracy = accuracy * 100\n",
    "    return accuracy\n",
    "\n",
    "def calcularSensibilidad(TP, TN, FP, FN):\n",
    "    sensibilidad = TP / (TP + FN)\n",
    "    sensibilidad = sensibilidad * 100\n",
    "    return sensibilidad\n",
    "\n",
    "def calcularEspecificidad(TP, TN, FP, FN):\n",
    "    especificidad = TN / (TN + FP)\n",
    "    especificidad = especificidad * 100\n",
    "    return especificidad\n",
    "\n",
    "acc = calcularAccuracy(TP, TN, FP, FN)\n",
    "sen = calcularSensibilidad(TP, TN, FP, FN)\n",
    "spec = calcularEspecificidad(TP, TN, FP, FN)\n",
    "print(\"Precision:\"+str(acc)+\"%\")\n",
    "print(\"Sensibilidad:\"+str(sen)+\"%\")\n",
    "print(\"Especificidad:\"+str(spec)+\"%\")"
   ]
  }
 ],
 "metadata": {
  "kernelspec": {
   "display_name": "Python 3",
   "language": "python",
   "name": "python3"
  },
  "language_info": {
   "codemirror_mode": {
    "name": "ipython",
    "version": 3
   },
   "file_extension": ".py",
   "mimetype": "text/x-python",
   "name": "python",
   "nbconvert_exporter": "python",
   "pygments_lexer": "ipython3",
   "version": "3.6.2"
  }
 },
 "nbformat": 4,
 "nbformat_minor": 2
}
