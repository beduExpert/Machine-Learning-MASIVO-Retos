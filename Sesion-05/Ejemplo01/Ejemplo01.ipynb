{
 "cells": [
  {
   "cell_type": "markdown",
   "metadata": {},
   "source": [
    "# Ejemplo 01:\n",
    "**_Dr. Antonio Arista Jalife_**\n",
    "\n",
    "En este ejemplo vamos a construir **manualmente** un árbol de decisión para simular un juego de Adivina quién. Lo primero que haremos será importar las librerías que vamos a llegar a necesitar: "
   ]
  },
  {
   "cell_type": "code",
   "execution_count": 1,
   "metadata": {
    "collapsed": true
   },
   "outputs": [],
   "source": [
    "import numpy as np"
   ]
  },
  {
   "cell_type": "markdown",
   "metadata": {},
   "source": [
    "El siguiente paso es tomar todos los nombres de las personas, y asignarle a cada uno sus características. Digamos, para los nombres del adivina quien:"
   ]
  },
  {
   "cell_type": "code",
   "execution_count": 2,
   "metadata": {
    "collapsed": true
   },
   "outputs": [],
   "source": [
    "#Para las salidas, utilizaremos la variable Y\n",
    "y = [\"Antonio\", \"Elly\", \"Patricia\", \"María\", \"Juana\", \"José\", \"Luis\"]"
   ]
  },
  {
   "cell_type": "markdown",
   "metadata": {},
   "source": [
    "Y para cada nombre, le vamos a poner características a cada uno en una tabla (matriz): \n",
    "1 = Tiene esa característica\n",
    "0 = No tiene esa característica\n",
    "\n",
    "Cada columna es una característica: \n",
    "\n",
    "Cabello largo | Usa lentes | Usa sombrero | Es mujer | Tiene bigote | Tiene ojos claros"
   ]
  },
  {
   "cell_type": "code",
   "execution_count": 3,
   "metadata": {
    "collapsed": true
   },
   "outputs": [],
   "source": [
    "#Características: \n",
    "#Cabello largo | Usa lentes | Usa sombrero | Es mujer | Tiene bigote | Tiene ojos claros\n",
    "x = np.array([\n",
    "     [0,1,0,0,0,0], #Antonio: No tiene cabello largo, usa lentes, no usa sombrero, no es mujer, no tiene bigote, no tiene ojos claros\n",
    "     [1,1,1,1,0,0], #Elly: Tiene cabello largo, usa lentes, usa sombrero, es mujer, no tiene bigote, no tiene ojos claros\n",
    "     [0,0,1,1,0,1], #Patricia: ...\n",
    "     [1,1,0,1,0,0], #Maria: ...\n",
    "     [0,0,1,1,0,0], #Juana: ...\n",
    "     [1,0,0,0,1,1], #José: ...\n",
    "     [0,1,1,0,0,1]  #Luis: ...\n",
    "    ], dtype=np.int16)\n"
   ]
  },
  {
   "cell_type": "markdown",
   "metadata": {},
   "source": [
    "Lo siguiente será crear las preguntas adecuadas para saber quien es la persona que queremos hallar:"
   ]
  },
  {
   "cell_type": "code",
   "execution_count": 4,
   "metadata": {},
   "outputs": [
    {
     "name": "stdout",
     "output_type": "stream",
     "text": [
      "[True, True, True, True, True, True, True]\n"
     ]
    }
   ],
   "source": [
    "#Adivina quien es un array de True: Todos son sospechosos\n",
    "adivinaquien = [True]*len(y)\n",
    "print(adivinaquien)"
   ]
  },
  {
   "cell_type": "markdown",
   "metadata": {},
   "source": [
    "Para cada pregunta, vamos a ver quienes son los sospechosos que quedan:"
   ]
  },
  {
   "cell_type": "code",
   "execution_count": 5,
   "metadata": {},
   "outputs": [
    {
     "name": "stdout",
     "output_type": "stream",
     "text": [
      "Sospechosos que quedan:\n",
      "Antonio\n",
      "Elly\n",
      "Patricia\n",
      "María\n",
      "Juana\n",
      "José\n",
      "Luis\n"
     ]
    }
   ],
   "source": [
    "print(\"Sospechosos que quedan:\")\n",
    "for contador in range(len(adivinaquien)):\n",
    "    if(adivinaquien[contador] == True):\n",
    "        print(y[contador])"
   ]
  },
  {
   "cell_type": "code",
   "execution_count": 6,
   "metadata": {},
   "outputs": [
    {
     "name": "stdout",
     "output_type": "stream",
     "text": [
      "[False  True False  True False  True False]\n"
     ]
    }
   ],
   "source": [
    "tieneCabelloLargo = 1 #Tiene cabello largo?\n",
    "\n",
    "#Primera pregunta: Tiene el cabello largo? solamente marca con \"True\" los que tengan cabello largo.\n",
    "pregunta1 = np.where(x[:,0] == tieneCabelloLargo, True, False)\n",
    "adivinaquien = pregunta1\n",
    "print(adivinaquien)"
   ]
  },
  {
   "cell_type": "code",
   "execution_count": 7,
   "metadata": {},
   "outputs": [
    {
     "name": "stdout",
     "output_type": "stream",
     "text": [
      "Sospechosos que quedan:\n",
      "Elly\n",
      "María\n",
      "José\n"
     ]
    }
   ],
   "source": [
    "print(\"Sospechosos que quedan:\")\n",
    "for contador in range(len(adivinaquien)):\n",
    "    if(adivinaquien[contador] == True):\n",
    "        print(y[contador])"
   ]
  },
  {
   "cell_type": "code",
   "execution_count": 8,
   "metadata": {},
   "outputs": [
    {
     "name": "stdout",
     "output_type": "stream",
     "text": [
      "[False  True False  True False False False]\n"
     ]
    }
   ],
   "source": [
    "usaLentes = 1 #Usa lentes?\n",
    "\n",
    "#Segunda pregunta, de los que quedan, quien usa lentes?\n",
    "pregunta2 = np.where(x[:,1] == usaLentes, True, False)\n",
    "\n",
    "#Tenemos que ver que los que usan lentes queden en la lista de sospechosos.\n",
    "for contador in range(len(adivinaquien)):\n",
    "    adivinaquien[contador] = pregunta2[contador] and adivinaquien[contador]\n",
    "print(adivinaquien)"
   ]
  },
  {
   "cell_type": "code",
   "execution_count": 9,
   "metadata": {},
   "outputs": [
    {
     "name": "stdout",
     "output_type": "stream",
     "text": [
      "Sospechosos que quedan:\n",
      "Elly\n",
      "María\n"
     ]
    }
   ],
   "source": [
    "print(\"Sospechosos que quedan:\")\n",
    "for contador in range(len(adivinaquien)):\n",
    "    if(adivinaquien[contador] == True):\n",
    "        print(y[contador])"
   ]
  },
  {
   "cell_type": "code",
   "execution_count": 10,
   "metadata": {},
   "outputs": [
    {
     "name": "stdout",
     "output_type": "stream",
     "text": [
      "[False  True False False False False False]\n"
     ]
    }
   ],
   "source": [
    "usaSombrero = 1 #Usa sombrero?\n",
    "\n",
    "#Tercera pregunta, de los que quedan, quien usa sombrero?\n",
    "pregunta3 = np.where(x[:,2] == usaSombrero, True, False)\n",
    "\n",
    "#Tenemos que ver que los que usan sombrero queden en la lista de sospechosos.\n",
    "for contador in range(len(adivinaquien)):\n",
    "    adivinaquien[contador] = pregunta3[contador] and adivinaquien[contador]\n",
    "print(adivinaquien)"
   ]
  },
  {
   "cell_type": "code",
   "execution_count": 11,
   "metadata": {},
   "outputs": [
    {
     "name": "stdout",
     "output_type": "stream",
     "text": [
      "Sospechosos que quedan:\n",
      "Elly\n"
     ]
    }
   ],
   "source": [
    "print(\"Sospechosos que quedan:\")\n",
    "for contador in range(len(adivinaquien)):\n",
    "    if(adivinaquien[contador] == True):\n",
    "        print(y[contador])"
   ]
  },
  {
   "cell_type": "markdown",
   "metadata": {},
   "source": [
    "Con ello hemos creado un arbol de decision: Elly es la única que tiene cabello largo, lentes, y sombrero."
   ]
  },
  {
   "cell_type": "code",
   "execution_count": null,
   "metadata": {
    "collapsed": true
   },
   "outputs": [],
   "source": []
  }
 ],
 "metadata": {
  "kernelspec": {
   "display_name": "Python 3",
   "language": "python",
   "name": "python3"
  },
  "language_info": {
   "codemirror_mode": {
    "name": "ipython",
    "version": 3
   },
   "file_extension": ".py",
   "mimetype": "text/x-python",
   "name": "python",
   "nbconvert_exporter": "python",
   "pygments_lexer": "ipython3",
   "version": "3.6.2"
  }
 },
 "nbformat": 4,
 "nbformat_minor": 2
}
