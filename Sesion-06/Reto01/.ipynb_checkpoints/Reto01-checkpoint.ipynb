{
 "cells": [
  {
   "cell_type": "markdown",
   "metadata": {},
   "source": [
    "# Reto 01\n",
    "**_Dr. Antonio Arista Jalife_**\n",
    "\n",
    "Este reto es bastante sencillo: Crear una neurona con una función de activación simple ($y = g(z) = z$) por lo que deberás de crear tres funciones: calcularZ, calcularSalida, y unirlos en una función llamada \"neurona\""
   ]
  },
  {
   "cell_type": "code",
   "execution_count": 1,
   "metadata": {
    "collapsed": true
   },
   "outputs": [],
   "source": [
    "import numpy as np"
   ]
  },
  {
   "cell_type": "markdown",
   "metadata": {},
   "source": [
    "Primero se calculará la ecuación:\n",
    "$z = w_1x_1 +w_2x_2+w_3x_3 + \\cdots + b$"
   ]
  },
  {
   "cell_type": "code",
   "execution_count": 2,
   "metadata": {
    "collapsed": true
   },
   "outputs": [],
   "source": [
    "def calcularZ(w, x, b):\n",
    "    z = np.dot(w,x) + b\n",
    "    return z"
   ]
  },
  {
   "cell_type": "code",
   "execution_count": 3,
   "metadata": {},
   "outputs": [
    {
     "name": "stdout",
     "output_type": "stream",
     "text": [
      "18\n"
     ]
    }
   ],
   "source": [
    "w = [1,2,3]\n",
    "x = [1,2,3]\n",
    "b = 4\n",
    "z = calcularZ(w,x,b)\n",
    "print(z)"
   ]
  },
  {
   "cell_type": "markdown",
   "metadata": {},
   "source": [
    "Luego se calcula la salida con $y = g(z) = z $\n",
    "\n",
    "Toma en cuenta que esta función de activación es \"dummy\", en los siguientes ejemplos se modificará esta función"
   ]
  },
  {
   "cell_type": "code",
   "execution_count": 4,
   "metadata": {
    "collapsed": true
   },
   "outputs": [],
   "source": [
    "def activacion(z):\n",
    "    y_predecida = z\n",
    "    return y_predecida"
   ]
  },
  {
   "cell_type": "code",
   "execution_count": 5,
   "metadata": {},
   "outputs": [
    {
     "name": "stdout",
     "output_type": "stream",
     "text": [
      "18\n"
     ]
    }
   ],
   "source": [
    "y_predecida = calcularSalida(z)\n",
    "print(y_predecida)"
   ]
  },
  {
   "cell_type": "markdown",
   "metadata": {},
   "source": [
    "Finalmente se calcula la neurona uniendo las dos funciones"
   ]
  },
  {
   "cell_type": "code",
   "execution_count": 6,
   "metadata": {
    "collapsed": true
   },
   "outputs": [],
   "source": [
    "def neurona(w,x,b):\n",
    "    z = calcularZ(w,x,b)\n",
    "    y = activacion(z)\n",
    "    return y"
   ]
  },
  {
   "cell_type": "code",
   "execution_count": 7,
   "metadata": {},
   "outputs": [
    {
     "name": "stdout",
     "output_type": "stream",
     "text": [
      "18\n"
     ]
    }
   ],
   "source": [
    "w = [1,2,3]\n",
    "x = [1,2,3]\n",
    "b = 4\n",
    "print(neurona(w,x,b))"
   ]
  },
  {
   "cell_type": "code",
   "execution_count": null,
   "metadata": {
    "collapsed": true
   },
   "outputs": [],
   "source": []
  }
 ],
 "metadata": {
  "kernelspec": {
   "display_name": "Python 3",
   "language": "python",
   "name": "python3"
  },
  "language_info": {
   "codemirror_mode": {
    "name": "ipython",
    "version": 3
   },
   "file_extension": ".py",
   "mimetype": "text/x-python",
   "name": "python",
   "nbconvert_exporter": "python",
   "pygments_lexer": "ipython3",
   "version": "3.6.2"
  }
 },
 "nbformat": 4,
 "nbformat_minor": 2
}
