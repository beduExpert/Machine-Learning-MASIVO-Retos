{
 "cells": [
  {
   "cell_type": "markdown",
   "metadata": {},
   "source": [
    "# Ejemplo 01\n",
    "**_Dr. Antonio Arista Jalife._**\n",
    "\n",
    "En este ejemplo veremos como un clasificador de una sola neurona falla terriblemente al intentar tratar de clasificar el problema del XOR"
   ]
  },
  {
   "cell_type": "code",
   "execution_count": 1,
   "metadata": {
    "collapsed": true
   },
   "outputs": [],
   "source": [
    "import numpy as np\n",
    "from sklearn.linear_model import SGDClassifier"
   ]
  },
  {
   "cell_type": "markdown",
   "metadata": {},
   "source": [
    "### Implementando un AND\n",
    "Recordemos que la tabla de AND es:\n",
    "\n",
    "0 AND 0 = 0\n",
    "\n",
    "0 AND 1 = 0\n",
    "\n",
    "1 AND 0 = 0\n",
    "\n",
    "1 AND 1 = 1"
   ]
  },
  {
   "cell_type": "code",
   "execution_count": 2,
   "metadata": {},
   "outputs": [
    {
     "name": "stdout",
     "output_type": "stream",
     "text": [
      "Entradas:[[0 0]\n",
      " [0 1]\n",
      " [1 0]\n",
      " [1 1]]\n",
      "Resultados AND:[0 0 0 1]\n"
     ]
    }
   ],
   "source": [
    "X = np.array([[0,0],[0,1],[1,0],[1,1]])\n",
    "Y = np.array([0,0,0,1])\n",
    "\n",
    "model = SGDClassifier(max_iter=1000, tol=1e-3)\n",
    "model.fit(X, Y)\n",
    "results = model.predict(X)\n",
    "print(\"Entradas:\"+str(X))\n",
    "print(\"Resultados AND:\"+str(results))"
   ]
  },
  {
   "cell_type": "markdown",
   "metadata": {},
   "source": [
    "### Implementando un OR\n",
    "Recordemos que la tabla de OR es:\n",
    "\n",
    "0 OR 0 = 0\n",
    "\n",
    "0 OR 1 = 1\n",
    "\n",
    "1 OR 0 = 1\n",
    "\n",
    "1 OR 1 = 1"
   ]
  },
  {
   "cell_type": "code",
   "execution_count": 3,
   "metadata": {},
   "outputs": [
    {
     "name": "stdout",
     "output_type": "stream",
     "text": [
      "Entradas:[[0 0]\n",
      " [0 1]\n",
      " [1 0]\n",
      " [1 1]]\n",
      "Resultados OR:[0 1 1 1]\n"
     ]
    }
   ],
   "source": [
    "X = np.array([[0,0],[0,1],[1,0],[1,1]])\n",
    "Y = np.array([0,1,1,1])\n",
    "\n",
    "model = SGDClassifier(max_iter=1000, tol=1e-3)\n",
    "model.fit(X, Y)\n",
    "results = model.predict(X)\n",
    "print(\"Entradas:\"+str(X))\n",
    "print(\"Resultados OR:\"+str(results))"
   ]
  },
  {
   "cell_type": "markdown",
   "metadata": {},
   "source": [
    "### Implementando un NOT\n",
    "Recordemos que la tabla de NOT es:\n",
    "\n",
    "NOT 0 = 1\n",
    "\n",
    "NOT 1 = 0"
   ]
  },
  {
   "cell_type": "code",
   "execution_count": 4,
   "metadata": {},
   "outputs": [
    {
     "name": "stdout",
     "output_type": "stream",
     "text": [
      "Entradas:[[0]\n",
      " [1]]\n",
      "Resultados NOT:[1 0]\n"
     ]
    }
   ],
   "source": [
    "X = np.array([[0],[1]])\n",
    "Y = np.array([1,0])\n",
    "\n",
    "model = SGDClassifier(max_iter=1000, tol=1e-3)\n",
    "model.fit(X, Y)\n",
    "results = model.predict(X)\n",
    "print(\"Entradas:\"+str(X))\n",
    "print(\"Resultados NOT:\"+str(results))"
   ]
  },
  {
   "cell_type": "markdown",
   "metadata": {},
   "source": [
    "### Implementando un XOR (y fallando en el proceso)\n",
    "Recordemos que la tabla de XOR es:\n",
    "\n",
    "0 XOR 0 = 0\n",
    "\n",
    "0 XOR 1 = 1\n",
    "\n",
    "1 XOR 0 = 1\n",
    "\n",
    "1 XOR 1 = 0"
   ]
  },
  {
   "cell_type": "code",
   "execution_count": 5,
   "metadata": {},
   "outputs": [
    {
     "name": "stdout",
     "output_type": "stream",
     "text": [
      "Entradas:[[0 0]\n",
      " [0 1]\n",
      " [1 0]\n",
      " [1 1]]\n",
      "Resultados XOR:[1 1 0 0]\n"
     ]
    }
   ],
   "source": [
    "X = np.array([[0,0],[0,1],[1,0],[1,1]])\n",
    "Y = np.array([0,1,1,0])\n",
    "\n",
    "model = SGDClassifier(max_iter=1000, tol=1e-3)\n",
    "model.fit(X, Y)\n",
    "results = model.predict(X)\n",
    "print(\"Entradas:\"+str(X))\n",
    "print(\"Resultados XOR:\"+str(results))"
   ]
  },
  {
   "cell_type": "code",
   "execution_count": null,
   "metadata": {
    "collapsed": true
   },
   "outputs": [],
   "source": []
  }
 ],
 "metadata": {
  "kernelspec": {
   "display_name": "Python 3",
   "language": "python",
   "name": "python3"
  },
  "language_info": {
   "codemirror_mode": {
    "name": "ipython",
    "version": 3
   },
   "file_extension": ".py",
   "mimetype": "text/x-python",
   "name": "python",
   "nbconvert_exporter": "python",
   "pygments_lexer": "ipython3",
   "version": "3.6.2"
  }
 },
 "nbformat": 4,
 "nbformat_minor": 2
}
