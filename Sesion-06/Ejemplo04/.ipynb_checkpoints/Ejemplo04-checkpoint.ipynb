{
 "cells": [
  {
   "cell_type": "markdown",
   "metadata": {},
   "source": [
    "# Ejemplo 04\n",
    "**_Dr. Antonio Arista Jalife_**\n",
    "\n",
    "En este ejemplo vamos a conectar una red neuronal: Una red neuronal se compone de varias capas neuronales conectadas que envían información hacia adelante. Para ello vamos a conectar dos neuronas en la capa 1, con una neurona en la capa 2."
   ]
  },
  {
   "cell_type": "code",
   "execution_count": 1,
   "metadata": {
    "collapsed": true
   },
   "outputs": [],
   "source": [
    "import numpy as np\n",
    "\n",
    "def calcularZ(w,x,b):\n",
    "    z = np.dot(w,x)+b\n",
    "    return z\n",
    "\n",
    "def activacion(z):\n",
    "    y = 1 / (1 + np.exp(-z))\n",
    "    return y\n",
    "\n",
    "def capaNeuronal(w,x,b):\n",
    "    z = calcularZ(w,x,b)\n",
    "    y_pred = activacion(z)\n",
    "    return y_pred\n",
    "\n",
    "def inicializarCapa(numCaracteristicas, numNeuronas):\n",
    "    w = np.random.rand(numCaracteristicas,numNeuronas)\n",
    "    w_transpose = w.T\n",
    "    b = np.random.rand(numNeuronas)\n",
    "    return w_transpose,b"
   ]
  },
  {
   "cell_type": "markdown",
   "metadata": {},
   "source": [
    "La capa 1 tendrá los pesos w1 y b1, la capa 2 tendrá los pesos w2 y b2. \n",
    "Para obtener un resultado tenemos que hacer que la capa 1 obtenga sus resultados y esos resultados se los alimentamos a la capa 2. Esto se le conoce como \"propagación hacia el frente\" (o en inglés, Front propagation)"
   ]
  },
  {
   "cell_type": "code",
   "execution_count": 2,
   "metadata": {},
   "outputs": [
    {
     "name": "stdout",
     "output_type": "stream",
     "text": [
      "[0.91746981 0.95442694]\n"
     ]
    }
   ],
   "source": [
    "#Entrada: \n",
    "x = np.array([0,1,2,3,4,3,2,1,0,-1]) #10 características de entrada.\n",
    "#Capa 1:\n",
    "w1,b1 = inicializarCapa(10,4) #10 caracteristicas, 4 neuronas.\n",
    "#Capa 2:\n",
    "w2,b2 = inicializarCapa(4,2) #4 caracteristicas, 2 neuronas.\n",
    "\n",
    "#Salida de capa 1:\n",
    "y1 = capaNeuronal(w1,x,b1)\n",
    "#Conectamos la salida de la capa 1 a la capa 2:\n",
    "y_pred = capaNeuronal(w2,y1,b2)\n",
    "#Imprimimos la salida:\n",
    "print(y_pred)"
   ]
  },
  {
   "cell_type": "markdown",
   "metadata": {},
   "source": [
    "Cuando varias neuronas trabajan juntas, pueden resolver problemas complejos. Entre mas neuronas, mas complejo es el problema que resuelven. Por ejemplo, el problema del XOR:\n",
    "\n",
    "En este caso, el MLPClassifier crea una estructura neuronal idéntica a la que definimos arriba. La siguiente sesión aprenderemos a entrenarla"
   ]
  },
  {
   "cell_type": "code",
   "execution_count": 3,
   "metadata": {},
   "outputs": [
    {
     "name": "stdout",
     "output_type": "stream",
     "text": [
      "[0 1 1 0]\n"
     ]
    }
   ],
   "source": [
    "from sklearn.neural_network import MLPClassifier\n",
    "X = np.array([[0,0],[0,1],[1,0],[1,1]])\n",
    "Y = np.array([0,1,1,0])\n",
    "\n",
    "\n",
    "redNeuronal = MLPClassifier(hidden_layer_sizes=(4,2),\n",
    "                            max_iter=20000,\n",
    "                            activation ='logistic',\n",
    "                            tol= 1e-7)\n",
    "\n",
    "redNeuronal.fit(X, Y)\n",
    "Y_pred = redNeuronal.predict(X)\n",
    "print(Y_pred)"
   ]
  },
  {
   "cell_type": "code",
   "execution_count": null,
   "metadata": {
    "collapsed": true
   },
   "outputs": [],
   "source": []
  }
 ],
 "metadata": {
  "kernelspec": {
   "display_name": "Python 3",
   "language": "python",
   "name": "python3"
  },
  "language_info": {
   "codemirror_mode": {
    "name": "ipython",
    "version": 3
   },
   "file_extension": ".py",
   "mimetype": "text/x-python",
   "name": "python",
   "nbconvert_exporter": "python",
   "pygments_lexer": "ipython3",
   "version": "3.6.2"
  }
 },
 "nbformat": 4,
 "nbformat_minor": 2
}
