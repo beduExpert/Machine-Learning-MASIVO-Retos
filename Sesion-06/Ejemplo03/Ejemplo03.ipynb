{
 "cells": [
  {
   "cell_type": "markdown",
   "metadata": {},
   "source": [
    "# Ejemplo 03\n",
    "**_Dr. Antonio Arista Jalife_**\n",
    "\n",
    "Para este ejemplo vamos a crear una capa neuronal, la cual consiste en varias neuronas en paralelo. Todas las neuronas en paralelo reciben el mismo vector de entradas, y la neurona debe de emitir N salidas, una por cada neurona paralela. En este ejemplo solamente crearé dos neuronas."
   ]
  },
  {
   "cell_type": "code",
   "execution_count": 1,
   "metadata": {
    "collapsed": true
   },
   "outputs": [],
   "source": [
    "import numpy as np"
   ]
  },
  {
   "cell_type": "markdown",
   "metadata": {},
   "source": [
    "Generamos las funciones de los retos pasados. Sin embargo aqui vamos a renombrar \"neurona\" por \"capaNeuronal\", porque a NumPy no le importa cuantas neuronas quieras procesar, el programa es el mismo si usas NumPy para las operaciones (np.dot / np.exp / np.tanh)"
   ]
  },
  {
   "cell_type": "code",
   "execution_count": 2,
   "metadata": {
    "collapsed": true
   },
   "outputs": [],
   "source": [
    "def calcularZ(w,x,b):\n",
    "    z = np.dot(w,x)+b\n",
    "    return z\n",
    "\n",
    "def activacion(z):\n",
    "    y = 1 / (1 + np.exp(-z))\n",
    "    return y\n",
    "\n",
    "def capaNeuronal(w,x,b):\n",
    "    z = calcularZ(w,x,b)\n",
    "    y_pred = activacion(z)\n",
    "    return y_pred"
   ]
  },
  {
   "cell_type": "markdown",
   "metadata": {},
   "source": [
    "Ahora, para crear varias neuronas, solamente basta en agrandar el arreglo de pesos W a una matriz W de tamaño (Num de neuronas $\\times$ tamaño de entradas), y el bias B se transforma de un escalar a un vector (del tamaño de la cantidad de neuronas)"
   ]
  },
  {
   "cell_type": "code",
   "execution_count": 7,
   "metadata": {},
   "outputs": [
    {
     "name": "stdout",
     "output_type": "stream",
     "text": [
      "Tamaño de matriz de entrada X (# de características) = (1, 3)\n",
      "Tamaño de matriz de pesos W (neuronas x entradas) = (2, 3)\n",
      "Tamaño de matriz de bias B (neuronas) = (2,)\n",
      "Salida\n",
      "[[9.99999694e-01 3.05902227e-07]]\n",
      "tamaño de salida (neuronas) = (1, 2)\n"
     ]
    }
   ],
   "source": [
    "x = np.array([[1,2,3]]) #Entradas.\n",
    "print(\"Tamaño de matriz de entrada X (# de características) = \"+str(x.shape))\n",
    "\n",
    "w = np.array([[1,2,3],   #Pesos de Neurona 1        \n",
    "              [-1,-2,-3]])  #Pesos de Neurona 2\n",
    "print(\"Tamaño de matriz de pesos W (neuronas x caracteristicas de entrada) = \"+str(w.shape))\n",
    "\n",
    "b = np.array([1,         #bias de neurona 1\n",
    "              -1])        #bias de neurona 2\n",
    "print(\"Tamaño de matriz de bias B (neuronas) = \"+str(b.shape))\n",
    "\n",
    "#w.T = W transpuesta. Rotamos la matriz para que encaje en np.dot()\n",
    "y_pred = capaNeuronal(x,w.T,b)\n",
    "print(\"Salida\")\n",
    "print(y_pred)\n",
    "print(\"tamaño de salida (neuronas) = \"+str(y_pred.shape))"
   ]
  },
  {
   "cell_type": "code",
   "execution_count": null,
   "metadata": {
    "collapsed": true
   },
   "outputs": [],
   "source": []
  }
 ],
 "metadata": {
  "kernelspec": {
   "display_name": "Python 3",
   "language": "python",
   "name": "python3"
  },
  "language_info": {
   "codemirror_mode": {
    "name": "ipython",
    "version": 3
   },
   "file_extension": ".py",
   "mimetype": "text/x-python",
   "name": "python",
   "nbconvert_exporter": "python",
   "pygments_lexer": "ipython3",
   "version": "3.6.2"
  }
 },
 "nbformat": 4,
 "nbformat_minor": 2
}
