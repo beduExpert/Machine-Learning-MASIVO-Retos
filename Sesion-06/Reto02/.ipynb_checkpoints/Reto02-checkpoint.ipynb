{
 "cells": [
  {
   "cell_type": "markdown",
   "metadata": {},
   "source": [
    "# Reto 02.\n",
    "**_Dr. Antonio Arista Jalife_**\n",
    "\n",
    "En este reto el objetivo será crear una función que inicialice una capa neuronal: La función de inicialización debe recibir de como input el número de caracteristicas (o entradas) y el número de neuronas, y el output de la función debe entregar los pesos sinápticos y bias en forma de arreglos y matrices de NumPy."
   ]
  },
  {
   "cell_type": "code",
   "execution_count": 1,
   "metadata": {
    "collapsed": true
   },
   "outputs": [],
   "source": [
    "import numpy as np"
   ]
  },
  {
   "cell_type": "markdown",
   "metadata": {},
   "source": [
    "En primer lugar creamos las funciones de la neurona. "
   ]
  },
  {
   "cell_type": "code",
   "execution_count": 2,
   "metadata": {
    "collapsed": true
   },
   "outputs": [],
   "source": [
    "def calcularZ(w,x,b):\n",
    "    z = np.dot(w,x)+b\n",
    "    return z\n",
    "\n",
    "def activacion(z):\n",
    "    y = 1 / (1 + np.exp(-z))\n",
    "    return y\n",
    "\n",
    "def capaNeuronal(w,x,b):\n",
    "    z = calcularZ(w,x,b)\n",
    "    y_pred = activacion(z)\n",
    "    return y_pred"
   ]
  },
  {
   "cell_type": "markdown",
   "metadata": {},
   "source": [
    "### Función de inicializar capa.\n",
    "Esta es la función que inicializa una de las capas neuronales (en la literatura \"layers\"). Los pesos sinápticos W se colocarán transpuestos de una vez, por conveniencia."
   ]
  },
  {
   "cell_type": "code",
   "execution_count": 3,
   "metadata": {
    "collapsed": true
   },
   "outputs": [],
   "source": [
    "def inicializarCapa(numCaracteristicas, numNeuronas):\n",
    "    w = np.random.rand(numCaracteristicas,numNeuronas)\n",
    "    w_transpose = w.T\n",
    "    b = np.random.rand(numNeuronas)\n",
    "    return w_transpose,b"
   ]
  },
  {
   "cell_type": "markdown",
   "metadata": {},
   "source": [
    "Probemos las capas neuronales: primero una inicialización de 3 características y 2 neuronas."
   ]
  },
  {
   "cell_type": "code",
   "execution_count": 4,
   "metadata": {},
   "outputs": [
    {
     "name": "stdout",
     "output_type": "stream",
     "text": [
      "(2, 3)\n",
      "(2,)\n"
     ]
    }
   ],
   "source": [
    "w,b = inicializarCapa(3,2)\n",
    "print(w.shape)\n",
    "print(b.shape)"
   ]
  },
  {
   "cell_type": "markdown",
   "metadata": {},
   "source": [
    "Y luego, veamos como reacciona con una entrada de 10 características y 2 neuronas. La salida deben ser 2 valores en un array."
   ]
  },
  {
   "cell_type": "code",
   "execution_count": 5,
   "metadata": {},
   "outputs": [
    {
     "name": "stdout",
     "output_type": "stream",
     "text": [
      "[0.99847236 0.9998353 ]\n"
     ]
    }
   ],
   "source": [
    "x = np.array([0,1,2,3,4,3,2,1,0,-1]) #10 características de entrada.\n",
    "w,b = inicializarCapa(10,2) #10 caracteristicas, 2 neuronas.\n",
    "y = capaNeuronal(w,x,b)\n",
    "print(y)"
   ]
  },
  {
   "cell_type": "code",
   "execution_count": null,
   "metadata": {
    "collapsed": true
   },
   "outputs": [],
   "source": []
  }
 ],
 "metadata": {
  "kernelspec": {
   "display_name": "Python 3",
   "language": "python",
   "name": "python3"
  },
  "language_info": {
   "codemirror_mode": {
    "name": "ipython",
    "version": 3
   },
   "file_extension": ".py",
   "mimetype": "text/x-python",
   "name": "python",
   "nbconvert_exporter": "python",
   "pygments_lexer": "ipython3",
   "version": "3.6.2"
  }
 },
 "nbformat": 4,
 "nbformat_minor": 2
}
